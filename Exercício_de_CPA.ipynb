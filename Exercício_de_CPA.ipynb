{
  "nbformat": 4,
  "nbformat_minor": 0,
  "metadata": {
    "colab": {
      "name": "Exercício_de_CPA.ipynb",
      "provenance": [],
      "collapsed_sections": [
        "9a-wJwU-wtmQ"
      ],
      "toc_visible": true,
      "include_colab_link": true
    },
    "kernelspec": {
      "name": "python3",
      "display_name": "Python 3"
    },
    "language_info": {
      "name": "python"
    }
  },
  "cells": [
    {
      "cell_type": "markdown",
      "metadata": {
        "id": "view-in-github",
        "colab_type": "text"
      },
      "source": [
        "<a href=\"https://colab.research.google.com/github/Arthss/Exercicio-de-CPA/blob/main/Exerc%C3%ADcio_de_CPA.ipynb\" target=\"_parent\"><img src=\"https://colab.research.google.com/assets/colab-badge.svg\" alt=\"Open In Colab\"/></a>"
      ]
    },
    {
      "cell_type": "markdown",
      "source": [
        "# EFC1 GCC253 - Complexidade e Projeto de Algoritmos\n",
        "\n",
        "\n",
        "> **Prof.: Douglas H. S. Abreu**\n",
        "\n",
        "\n",
        "**Aluno**: Arthur Eduardo Silva\n",
        "\n",
        "**Matricula** 201920336\n",
        "\n",
        "**Aluno**: Estênio Tavares Damásio\n",
        "\n",
        "**Turma**: 14A\n",
        "\n",
        "Link do repositório GitHub: https://github.com/Arthss/Exercicio-de-CPA \n",
        "\n",
        "● O trabalho deve ser feito em grupos de no máximo 2 componentes (todos devem enviar a atividade no Campus Virtual)\n",
        "\n",
        "● Trabalhos entregues após a data limite não serão aceitos\n",
        "\n",
        "● Data limite de entrega: 24 de Julho de 2022 : 23h55m\n",
        "\n",
        "● Enviar o trabalho para o campus virtual, do seguinte modo: link do repositório GitHub e do Colab para acesso ao Notebook. A Documentação deve estar no readme\n",
        "\n",
        "● O trabalho deve ser desenvolvido no modelo Notebook utilizando a linguagem Python"
      ],
      "metadata": {
        "id": "XAdlKnDBj5uB"
      }
    },
    {
      "cell_type": "markdown",
      "source": [
        "# Importações e Variáveis globais"
      ],
      "metadata": {
        "id": "J3d6JlRUxREN"
      }
    },
    {
      "cell_type": "code",
      "source": [
        "import numpy as np\n",
        "import time\n",
        "import matplotlib.pyplot as plt\n",
        "import sys\n",
        "\n",
        "sys.setrecursionlimit(1500)\n",
        "\n",
        "global_1=0"
      ],
      "metadata": {
        "id": "Ur1DVGQAxac4"
      },
      "execution_count": null,
      "outputs": []
    },
    {
      "cell_type": "markdown",
      "source": [
        "# Gerar array aleatório"
      ],
      "metadata": {
        "id": "vulp7g3PrdgC"
      }
    },
    {
      "cell_type": "code",
      "source": [
        "def geraArrayAleatorio(quantidade):\n",
        "  array = np.random.randint(0, 1000, (quantidade))\n",
        "  return array"
      ],
      "metadata": {
        "id": "ikqZOsCnraJn"
      },
      "execution_count": 23,
      "outputs": []
    },
    {
      "cell_type": "code",
      "source": [
        "def tempo(algoritmo, arranjo):\n",
        "  inicio = time.time()\n",
        "  comparacoes = algoritmo(arranjo)[1]\n",
        "  fim = time.time()\n",
        "  tempoExecucao = fim - inicio\n",
        "\n",
        "  return tempoExecucao, comparacoes"
      ],
      "metadata": {
        "id": "icoz5tGxzGgI"
      },
      "execution_count": 24,
      "outputs": []
    },
    {
      "cell_type": "markdown",
      "source": [
        "# Funções de Ordenação\n",
        "\n",
        "> Utilize este espaço para definir as funções de ordenação vista em sala de aula\n",
        "\n"
      ],
      "metadata": {
        "id": "kPNpzNYwkKAO"
      }
    },
    {
      "cell_type": "markdown",
      "source": [
        "##  Insertion Sort\n"
      ],
      "metadata": {
        "id": "nEw1UEsmoKMg"
      }
    },
    {
      "cell_type": "code",
      "source": [
        "def insertionSort(numeros):\n",
        "    comparacoes = 0\n",
        "\n",
        "    for j in range(1, len(numeros)):\n",
        "      chave = numeros[j]\n",
        "      i = 0\n",
        "      i = j - 1\n",
        "\n",
        "      comparacoes += 1\n",
        "      while i >= 0 and numeros[i] > chave:\n",
        "        comparacoes += 1\n",
        "        numeros[i + 1] = numeros[i]\n",
        "        i = i - 1\n",
        "      numeros[i + 1] = chave\n",
        "\n",
        "    return numeros, comparacoes\n",
        "\n",
        "\n",
        "tempoAleatorio = []\n",
        "comparacoesAleatorio = []\n",
        "for a in range(5,1000):\n",
        "  aleatorio = geraArrayAleatorio(a)\n",
        "  aux = tempo(insertionSort, aleatorio)\n",
        "  tempoAleatorio.append(aux[0])\n",
        "  comparacoesAleatorio.append(aux[1])\n",
        "\n",
        "tempoOrdenado = []\n",
        "comparacoesOrdenado = []\n",
        "for a in range(5,1000):\n",
        "  ordenado = np.arange(a)\n",
        "  aux = tempo(insertionSort, ordenado)\n",
        "  tempoOrdenado.append(aux[0])\n",
        "  comparacoesOrdenado.append(aux[1])\n",
        "\n",
        "\n",
        "tempoDecrescente = []\n",
        "comparacoesDecrescente = []\n",
        "for a in range(5,1000):\n",
        "  decrescente = np.arange(a, 0, -1)\n",
        "  aux = tempo(insertionSort, decrescente)\n",
        "  tempoDecrescente.append(aux[0])\n",
        "  comparacoesDecrescente.append(aux[1])\n",
        "\n",
        "plt.plot(tempoAleatorio, label = 'Aleatório')\n",
        "plt.plot(tempoOrdenado, label = 'Ordenado')\n",
        "plt.plot(tempoDecrescente, label = 'Decrescente')\n",
        "plt.title('Gráfico de tempo - Insertion Sort')\n",
        "plt.legend()\n",
        "plt.show()\n",
        "print(\"-----------------------------------------------------------------\")\n",
        "plt.plot(comparacoesAleatorio, label = 'Comparação Aleatório')\n",
        "plt.plot(comparacoesOrdenado, label = 'Comparação Ordenado')\n",
        "plt.plot(comparacoesDecrescente, label = 'Comparação Decrescente')\n",
        "plt.title('Gráfico de comparações - Insertion Sort')\n",
        "plt.legend()\n",
        "plt.show()\n",
        "print(\"-----------------------------------------------------------------\")\n",
        "print(\"O melhor caso do Insertion Sort é quando o vetor já está ordenado!\")\n",
        "print(\"O pior caso do Insertion Sort é quando o vetor está ordenado em ordem decrescente!\")\n",
        "print(\"O melhor caso: O(n)\")\n",
        "print(\"O pior caso: O(n²)\")"
      ],
      "metadata": {
        "id": "kbOrhdB-j_px",
        "colab": {
          "base_uri": "https://localhost:8080/",
          "height": 652
        },
        "outputId": "37fdf10e-d022-4c57-f349-c514a8b80975"
      },
      "execution_count": 25,
      "outputs": [
        {
          "output_type": "display_data",
          "data": {
            "text/plain": [
              "<Figure size 432x288 with 1 Axes>"
            ],
            "image/png": "[encoded data removed]"
          },
          "metadata": {
            "needs_background": "light"
          }
        },
        {
          "output_type": "stream",
          "name": "stdout",
          "text": [
            "-----------------------------------------------------------------\n"
          ]
        },
        {
          "output_type": "display_data",
          "data": {
            "text/plain": [
              "<Figure size 432x288 with 1 Axes>"
            ],
            "image/png": "[encoded data removed]"
          },
          "metadata": {
            "needs_background": "light"
          }
        },
        {
          "output_type": "stream",
          "name": "stdout",
          "text": [
            "-----------------------------------------------------------------\n",
            "O melhor caso do Insertion Sort é quando o vetor já está ordenado!\n",
            "O pior caso do Insertion Sort é quando o vetor está ordenado em ordem decrescente!\n",
            "O melhor caso: O(n)\n",
            "O pior caso: O(n²)\n"
          ]
        }
      ]
    },
    {
      "cell_type": "markdown",
      "source": [
        "##  Merge Sort\n"
      ],
      "metadata": {
        "id": "9a-wJwU-wtmQ"
      }
    },
    {
      "cell_type": "code",
      "source": [
        "def mergeSort(arr):\n",
        "    comparacoes = 0\n",
        "\n",
        "    if len(arr)>1:\n",
        "        valorMedio = len(arr)//2\n",
        "        metadeEsquerda = arr[:valorMedio]\n",
        "        metadeDireita = arr[valorMedio:]\n",
        "\n",
        "        parte_esquerda = mergeSort(metadeEsquerda)\n",
        "        parte_direita = mergeSort(metadeDireita)\n",
        "\n",
        "        comparacoes += parte_esquerda[1] + parte_direita[1]\n",
        "\n",
        "        i=0\n",
        "        j=0\n",
        "        k=0\n",
        "        while i < len(metadeEsquerda) and j < len(metadeDireita):\n",
        "            comparacoes += 1\n",
        "            if metadeEsquerda[i] < metadeDireita[j]:\n",
        "                arr[k]=metadeEsquerda[i]\n",
        "                i =i+1\n",
        "\n",
        "            else:\n",
        "                arr[k]=metadeDireita[j]\n",
        "                j=j+1\n",
        "\n",
        "            k=k+1\n",
        "\n",
        "        while i < len(metadeEsquerda):\n",
        "            arr[k]=metadeEsquerda[i]\n",
        "            i=i+1\n",
        "            k=k+1\n",
        "            comparacoes += 1\n",
        "\n",
        "        while j < len(metadeDireita):\n",
        "            arr[k]=metadeDireita[j]\n",
        "            j=j+1\n",
        "            k=k+1\n",
        "            comparacoes += 1\n",
        "\n",
        "    return arr, comparacoes"
      ],
      "metadata": {
        "id": "8cgIJ_4EwbPN"
      },
      "execution_count": 26,
      "outputs": []
    },
    {
      "cell_type": "code",
      "source": [
        "tempoAleatorio = []\n",
        "comparacoesAleatorio = []\n",
        "for a in range(5,1000):\n",
        "  aleatorio = geraArrayAleatorio(a)\n",
        "  aux = tempo(mergeSort, aleatorio)\n",
        "  ##print(aux[0])\n",
        "  tempoAleatorio.append(aux[0])\n",
        "  comparacoesAleatorio.append(aux[1])"
      ],
      "metadata": {
        "id": "IOqtQz87gj-P"
      },
      "execution_count": 27,
      "outputs": []
    },
    {
      "cell_type": "code",
      "source": [
        "tempoOrdenado= []\n",
        "comparacoesOrdenado= []\n",
        "for a in range(5,1000):\n",
        "  ordenado= np.arange(a)\n",
        "  aux = tempo(mergeSort, ordenado)\n",
        "  tempoOrdenado.append(aux[0])\n",
        "  comparacoesOrdenado.append(aux[1])\n"
      ],
      "metadata": {
        "id": "odjeGEyXguKL"
      },
      "execution_count": 28,
      "outputs": []
    },
    {
      "cell_type": "code",
      "source": [
        "tempoDecrescente = []\n",
        "comparacoesDecrescente = []\n",
        "for a in range(5,1000):\n",
        "  decrescente = np.arange(a, 0, -1)\n",
        "  aux = tempo(mergeSort, decrescente)\n",
        "  tempoDecrescente.append(aux[0])\n",
        "  comparacoesDecrescente.append(aux[1])"
      ],
      "metadata": {
        "id": "Zohajexngvlu"
      },
      "execution_count": 29,
      "outputs": []
    },
    {
      "cell_type": "code",
      "source": [
        "plt.plot(tempoAleatorio, label = 'Aleatório')\n",
        "plt.plot(tempoOrdenado, label = 'Ordenado')\n",
        "plt.plot(tempoDecrescente, label = 'Decrescente')\n",
        "plt.title('Gráfico de tempo - Merge Sort')\n",
        "plt.legend()\n",
        "plt.show()\n",
        "print(\"-----------------------------------------------------------------\")\n",
        "plt.plot(comparacoesAleatorio, label = 'Comparação Aleatório')\n",
        "plt.plot(comparacoesOrdenado, label = 'Comparação Ordenado')\n",
        "plt.plot(comparacoesDecrescente, label = 'Comparação Decrescente')\n",
        "plt.title('Gráfico de comparações - Merge Sort')\n",
        "plt.legend()\n",
        "plt.show()\n",
        "print(\"-----------------------------------------------------------------\")\n",
        "print(\"O Merge Sort nos garante eficiência n∗log n para todos os casos!\")\n",
        "print(\"Porque as “quebras” do array sempre ocorrem na metade\")\n",
        "print(\"Ou seja, independente dos dados, ele sempre está dividindo o array na metade\")\n",
        "print(\"Portanto, a relação de recorrência é única e, quando resolvida, sempre fornece um custo n∗logn\")"
      ],
      "metadata": {
        "colab": {
          "base_uri": "https://localhost:8080/",
          "height": 652
        },
        "id": "Z8CIvNJhgyts",
        "outputId": "b208fecb-5d1a-4fa1-a6b0-881fc2fd9f95"
      },
      "execution_count": 30,
      "outputs": [
        {
          "output_type": "display_data",
          "data": {
            "text/plain": [
              "<Figure size 432x288 with 1 Axes>"
            ],
            "image/png": "[encoded data removed]"
          },
          "metadata": {
            "needs_background": "light"
          }
        },
        {
          "output_type": "stream",
          "name": "stdout",
          "text": [
            "-----------------------------------------------------------------\n"
          ]
        },
        {
          "output_type": "display_data",
          "data": {
            "text/plain": [
              "<Figure size 432x288 with 1 Axes>"
            ],
            "image/png": "[encoded data removed]"
          },
          "metadata": {
            "needs_background": "light"
          }
        },
        {
          "output_type": "stream",
          "name": "stdout",
          "text": [
            "-----------------------------------------------------------------\n",
            "O Merge Sort nos garante eficiência n∗log n para todos os casos!\n",
            "Porque as “quebras” do array sempre ocorrem na metade\n",
            "Ou seja, independente dos dados, ele sempre está dividindo o array na metade\n",
            "Portanto, a relação de recorrência é única e, quando resolvida, sempre fornece um custo n∗logn\n"
          ]
        }
      ]
    },
    {
      "cell_type": "markdown",
      "source": [
        "##  Selection Sort\n"
      ],
      "metadata": {
        "id": "8dWpeYUvw-wU"
      }
    },
    {
      "cell_type": "code",
      "source": [
        "def selectionSort(numeros):\n",
        "    comparacoes = 0\n",
        "\n",
        "    for i in range(len(numeros)):\n",
        "      menor = i\n",
        "\n",
        "      for j in range(i + 1, len(numeros)):\n",
        "        comparacoes += 1\n",
        "        if numeros[j] < numeros[menor]:\n",
        "          menor = j\n",
        "      \n",
        "      comparacoes += 1\n",
        "      if i != menor:\n",
        "        numeros[menor], numeros[i] = numeros[i], numeros[menor]\n",
        "\n",
        "    return numeros, comparacoes\n",
        "\n",
        "tempoAleatorio = []\n",
        "comparacoesAleatorio = []\n",
        "for a in range(5,1000):\n",
        "  aleatorio = geraArrayAleatorio(a)\n",
        "  aux = tempo(selectionSort, aleatorio)\n",
        "  tempoAleatorio.append(aux[0])\n",
        "  comparacoesAleatorio.append(aux[1])\n",
        "\n",
        "tempoOrdenado = []\n",
        "comparacoesOrdenado = []\n",
        "for a in range(5,1000):\n",
        "  ordenado = np.arange(a)\n",
        "  aux = tempo(selectionSort, ordenado)\n",
        "  tempoOrdenado.append(aux[0])\n",
        "  comparacoesOrdenado.append(aux[1])\n",
        "\n",
        "\n",
        "tempoDecrescente = []\n",
        "comparacoesDecrescente = []\n",
        "for a in range(5,1000):\n",
        "  decrescente = np.arange(a, 0, -1)\n",
        "  aux = tempo(selectionSort, decrescente)\n",
        "  tempoDecrescente.append(aux[0])\n",
        "  comparacoesDecrescente.append(aux[1])\n",
        "\n",
        "plt.plot(tempoAleatorio, label = 'Aleatório')\n",
        "plt.plot(tempoOrdenado, label = 'Ordenado')\n",
        "plt.plot(tempoDecrescente, label = 'Decrescente')\n",
        "plt.title('Gráfico de tempo - Selection Sort')\n",
        "plt.legend()\n",
        "plt.show()\n",
        "print(\"-----------------------------------------------------------------\")\n",
        "plt.plot(comparacoesAleatorio, label = 'Comparação Aleatório')\n",
        "plt.plot(comparacoesOrdenado, label = 'Comparação Ordenado')\n",
        "plt.plot(comparacoesDecrescente, label = 'Comparação Decrescente')\n",
        "plt.title('Gráfico de comparações - Selection Sort')\n",
        "plt.legend()\n",
        "plt.show()\n",
        "print(\"-----------------------------------------------------------------\")\n",
        "print(\"Para o Selection Sort não há difença entre o pior e o melhor pois ele sempre executa as duas repetições!\")\n",
        "print(\"Devido a isso incluímos vetores ordenados crescente e  decrescente, apenas para demonstrar a igualdade!\")\n",
        "print(\"O melhor caso: O(n²)\")\n",
        "print(\"O pior caso: O(n²)\")"
      ],
      "metadata": {
        "id": "vNgUDShawygu"
      },
      "execution_count": null,
      "outputs": []
    },
    {
      "cell_type": "markdown",
      "source": [
        "##  Bubble Sort\n"
      ],
      "metadata": {
        "id": "zNI1kX0yyDrs"
      }
    },
    {
      "cell_type": "code",
      "source": [
        "def bubbleSort(numeros):\n",
        "    comparacoes = 0\n",
        "    elementos = len(numeros) - 1\n",
        "    ordenado = False\n",
        "\n",
        "    while not ordenado:\n",
        "        ordenado = True\n",
        "\n",
        "        for i in range(elementos):\n",
        "          comparacoes += 1\n",
        "          if numeros[i] > numeros[i + 1]:\n",
        "              numeros[i], numeros[i + 1] = numeros[i + 1], numeros[i]\n",
        "              ordenado = False        \n",
        "        \n",
        "    return numeros, comparacoes\n",
        "\n",
        "tempoAleatorio = []\n",
        "comparacoesAleatorio = []\n",
        "for a in range(5,1000):\n",
        "  aleatorio = geraArrayAleatorio(a)\n",
        "  aux = tempo(bubbleSort, aleatorio)\n",
        "  tempoAleatorio.append(aux[0])\n",
        "  comparacoesAleatorio.append(aux[1])\n",
        "\n",
        "tempoOrdenado = []\n",
        "comparacoesOrdenado = []\n",
        "for a in range(5,1000):\n",
        "  ordenado = np.arange(a)\n",
        "  aux = tempo(bubbleSort, ordenado)\n",
        "  tempoOrdenado.append(aux[0])\n",
        "  comparacoesOrdenado.append(aux[1])\n",
        "\n",
        "\n",
        "tempoDecrescente = []\n",
        "comparacoesDecrescente = []\n",
        "for a in range(5,1000):\n",
        "  decrescente = np.arange(a, 0, -1)\n",
        "  aux = tempo(bubbleSort, decrescente)\n",
        "  tempoDecrescente.append(aux[0])\n",
        "  comparacoesDecrescente.append(aux[1])\n",
        "\n",
        "plt.plot(tempoAleatorio, label = 'Aleatório')\n",
        "plt.plot(tempoOrdenado, label = 'Ordenado')\n",
        "plt.plot(tempoDecrescente, label = 'Decrescente')\n",
        "plt.title('Gráfico de tempo - Bubble Sort')\n",
        "plt.legend()\n",
        "plt.show()\n",
        "print(\"-----------------------------------------------------------------\")\n",
        "plt.plot(comparacoesAleatorio, label = 'Comparação Aleatório')\n",
        "plt.plot(comparacoesOrdenado, label = 'Comparação Ordenado')\n",
        "plt.plot(comparacoesDecrescente, label = 'Comparação Pior Caso')\n",
        "plt.title('Gráfico de comparações - Bubble Sort')\n",
        "plt.legend()\n",
        "plt.show()\n",
        "print(\"-----------------------------------------------------------------\")\n",
        "print(\"O melhor caso do Bubble Sort é quando o vetor já está ordenado!\")\n",
        "print(\"O pior caso do Bubble Sort é quando o vetor está ordenado em ordem decrescente!\")\n",
        "print(\"O melhor caso: O(n)\")\n",
        "print(\"O pior caso: O(n²)\")\n"
      ],
      "metadata": {
        "id": "6X_zk1yWxMQS"
      },
      "execution_count": null,
      "outputs": []
    },
    {
      "cell_type": "markdown",
      "source": [
        "## Heap Sort"
      ],
      "metadata": {
        "id": "vk4vOTkKyLB-"
      }
    },
    {
      "cell_type": "code",
      "source": [
        "def max_heap(arr, n, i):\n",
        "    \n",
        "    cont = 0\n",
        "    maior = i\n",
        "    esquerda = 2*i + 1\n",
        "    direita = 2*i + 2\n",
        "    \n",
        "    if esquerda < n and arr[esquerda] > arr[maior]:\n",
        "        \n",
        "        maior = esquerda\n",
        "        \n",
        "    if direita < n and arr[direita] > arr[maior]:\n",
        "        \n",
        "        maior = direita\n",
        "        \n",
        "    if maior != i :\n",
        "\n",
        "        cont += 1\n",
        "        arr[maior], arr[i] = arr[i], arr[maior]\n",
        "        max_heap(arr, n, maior)\n",
        "      \n",
        "    return cont"
      ],
      "metadata": {
        "id": "qsX-zb7QaFa9"
      },
      "execution_count": null,
      "outputs": []
    },
    {
      "cell_type": "code",
      "source": [
        "def heapSort(arr):\n",
        "    n = len(arr)\n",
        "    cont = 0\n",
        "      \n",
        "    for i in range(n // 2 -1, -1, -1):\n",
        "        max_heap(arr, n, i)\n",
        "        cont += max_heap(arr, i, 0)\n",
        "        \n",
        "    for i in range(n-1, 0, -1):\n",
        "        arr[i], arr[0] = arr[0], arr[i]\n",
        "        cont += max_heap(arr, i, 0)\n",
        "    \n",
        "    return arr, cont"
      ],
      "metadata": {
        "id": "39a7xXzLyH9g"
      },
      "execution_count": null,
      "outputs": []
    },
    {
      "cell_type": "code",
      "source": [
        "tempoAleatorio = []\n",
        "comparacoesAleatorio = []\n",
        "for a in range(5,1000):\n",
        "  aleatorio = geraArrayAleatorio(a)\n",
        "  aux = tempo(heapSort, aleatorio)\n",
        "  tempoAleatorio.append(aux[0])\n",
        "  comparacoesAleatorio.append(aux[1])"
      ],
      "metadata": {
        "id": "_i-oDmF7dAM9"
      },
      "execution_count": null,
      "outputs": []
    },
    {
      "cell_type": "code",
      "source": [
        "tempoOrdenado = []\n",
        "comparacoesOrdenado = []\n",
        "for a in range(5,1000):\n",
        "  ordenado = np.arange(a)\n",
        "  aux = tempo(heapSort, ordenado)\n",
        "  tempoOrdenado.append(aux[0])\n",
        "  comparacoesOrdenado.append(aux[1])"
      ],
      "metadata": {
        "id": "sSgSDWZPdEa9"
      },
      "execution_count": null,
      "outputs": []
    },
    {
      "cell_type": "code",
      "source": [
        "tempoDecrescente = []\n",
        "comparacoesDecrescente = []\n",
        "for a in range(5,1000):\n",
        "  decrescente = np.arange(a, 0, -1)\n",
        "  aux = tempo(heapSort, decrescente)\n",
        "  tempoDecrescente.append(aux[0])\n",
        "  comparacoesDecrescente.append(aux[1])"
      ],
      "metadata": {
        "id": "HwU6bXnmdHj9"
      },
      "execution_count": null,
      "outputs": []
    },
    {
      "cell_type": "code",
      "source": [
        "plt.plot(tempoAleatorio, label = 'Aleatório')\n",
        "plt.plot(tempoOrdenado, label = 'Ordenado')\n",
        "plt.plot(tempoDecrescente, label = 'Decrescente')\n",
        "plt.title('Gráfico de tempo - HeapSort')\n",
        "plt.legend()\n",
        "plt.show()\n",
        "print(\"-----------------------------------------------------------------\")\n",
        "plt.plot(comparacoesAleatorio, label = 'Comparação Aleatório')\n",
        "plt.plot(comparacoesOrdenado, label = 'Comparação Ordenado')\n",
        "plt.plot(comparacoesDecrescente, label = 'Comparação Decrescente')\n",
        "plt.title('Gráfico de comparações - HeapSort')\n",
        "plt.legend()\n",
        "plt.show()\n",
        "print(\"-----------------------------------------------------------------\")\n",
        "print(\"O tempo de execução da ordenação por Heap é 𝑶(𝒏 lg 𝒏)\")\n",
        "print(\"Um heap de 𝑛 elementos é baseado em uma árvore binária completa, sua altura é 𝑂(lg 𝑛)\")\n",
        "print(\"Esta última propriedade garante inserção e remoção em O(logn)\")\n",
        "print(\"Complexidade do Heap Sort (em qualquer caso): O(n log n)\")"
      ],
      "metadata": {
        "id": "6iDNx62tdKPk"
      },
      "execution_count": null,
      "outputs": []
    },
    {
      "cell_type": "markdown",
      "source": [
        "## Comparações todos algoritmos"
      ],
      "metadata": {
        "id": "7KNAxMDmMG4g"
      }
    },
    {
      "cell_type": "code",
      "source": [
        "tempoInsertion = []\n",
        "comparacoesInsertion = []\n",
        "\n",
        "tempoMerge = []\n",
        "comparacoesMerge = []\n",
        "\n",
        "tempoSelection = []\n",
        "comparacoesSelection = []\n",
        "\n",
        "tempoBubble = []\n",
        "comparacoesBubble = []\n",
        "\n",
        "tempoHeap = []\n",
        "comparacoesHeap = []\n",
        "\n",
        "\n",
        "for a in range(5,1000):\n",
        "  aleatorio = geraArrayAleatorio(a)\n",
        "  execucaoInsertion = tempo(insertionSort, aleatorio)\n",
        "  execucaoMerge = tempo(mergeSort, aleatorio)\n",
        "  execucaoSelection = tempo(selectionSort, aleatorio)\n",
        "  execucaoBubble = tempo(bubbleSort, aleatorio)\n",
        "  execucaoHeap = tempo(heapSort, aleatorio)\n",
        "\n",
        "\n",
        "  tempoInsertion.append(execucaoInsertion[0])\n",
        "  comparacoesInsertion.append(execucaoInsertion[1])\n",
        "\n",
        "  tempoMerge.append(execucaoMerge[0])\n",
        "  comparacoesMerge.append(execucaoMerge[1])\n",
        "\n",
        "  tempoSelection.append(execucaoSelection[0])\n",
        "  comparacoesSelection.append(execucaoSelection[1])\n",
        "\n",
        "  tempoBubble.append(execucaoBubble[0])\n",
        "  comparacoesBubble.append(execucaoBubble[1])\n",
        "\n",
        "  tempoHeap.append(execucaoHeap[0])\n",
        "  comparacoesHeap.append(execucaoHeap[1])\n",
        "\n",
        "plt.plot(tempoInsertion, label = 'Insertion')\n",
        "plt.plot(tempoMerge, label = 'Merge')\n",
        "plt.plot(tempoSelection, label = 'Selection')\n",
        "plt.plot(tempoBubble, label = 'Bubble')\n",
        "plt.plot(tempoHeap, label = 'Heap')\n",
        "plt.title('Comparações todos algoritmos')\n",
        "plt.legend()\n",
        "plt.show()"
      ],
      "metadata": {
        "id": "0guiQGDsMKNp"
      },
      "execution_count": null,
      "outputs": []
    },
    {
      "cell_type": "markdown",
      "source": [
        "## Quick Sort\n",
        "\n",
        "> pivo = *A[A-comprimento]*"
      ],
      "metadata": {
        "id": "fFiGho5CyU3t"
      }
    },
    {
      "cell_type": "code",
      "source": [
        "def quick_sort(a, comparacoes, ini=0, fim=None):\n",
        "    fim = fim if fim is not None else len(a)\n",
        "    comparacoes += 1\n",
        "    if ini < fim:\n",
        "        pp = particao(a, ini, fim)\n",
        "        comparacoes =  comparacoes + pp[1]\n",
        "        comparacoes = quick_sort(a, comparacoes, ini, pp[0])[1]\n",
        "        comparacoes = quick_sort(a, comparacoes, pp[0] + 1, fim)[1]\n",
        "        \n",
        "    return a, comparacoes\n",
        "\n",
        "def particao(a, ini, fim):\n",
        "    contador = 0\n",
        "    pivo = a[fim - 1]\n",
        "    for i in range(ini, fim):\n",
        "        contador += 1\n",
        "        if a[i] > pivo:\n",
        "            fim += 1\n",
        "        else:\n",
        "            fim += 1\n",
        "            ini += 1\n",
        "            a[i], a[ini - 1] = a[ini - 1], a[i]\n",
        "    \n",
        "    return ini - 1, contador\n",
        "\n",
        "\n",
        "tempoAleatorio = []\n",
        "comparacoesAleatorio = []\n",
        "for a in range(5,1000):\n",
        "  aleatorio = geraArrayAleatorio(a)\n",
        "\n",
        "  inicio = time.time()\n",
        "  aux = quick_sort(aleatorio, 0)\n",
        "  fim = time.time()\n",
        "\n",
        "  tempoExecucao = fim - inicio\n",
        "  tempoAleatorio.append(tempoExecucao)\n",
        "  comparacoesAleatorio.append(aux[1])\n",
        "\n",
        "\n",
        "metadeOrdenada1 = np.arange(1, 500)\n",
        "metadeOrdenada2 = np.arange(501, 1000)\n",
        "\n",
        "metadeOrdenada = metadeOrdenada1 + metadeOrdenada2\n",
        "inicio = time.time()\n",
        "aux = quick_sort(metadeOrdenada, 0)\n",
        "fim = time.time()\n",
        "\n",
        "tempoMetadeOrdenada = fim - inicio\n",
        "comparacoesMetadeOrdenada = aux[1]\n",
        "\n",
        "\n",
        "ordenado = np.arange(1000)\n",
        "\n",
        "inicio = time.time()\n",
        "aux = quick_sort(ordenado, 0)\n",
        "fim = time.time()\n",
        "\n",
        "tempoOrdenado = fim - inicio\n",
        "comparacoesOrdenado = aux[1]\n",
        "\n",
        "teste1 = geraArrayAleatorio(1000)\n",
        "\n",
        "\n",
        "print(\"Tempo de Execução Melhor Caso: \", tempoMetadeOrdenada)\n",
        "print(\"Comparações Melhor Caso: \", comparacoesMetadeOrdenada)\n",
        "print(\"-----------------------------------------------------------------\")\n",
        "print(\"Tempo de Execução Pior Caso: \", tempoOrdenado)\n",
        "print(\"Comparações Pior Caso: \", comparacoesOrdenado)\n",
        "print(\"-----------------------------------------------------------------\")\n",
        "plt.plot(tempoAleatorio, label = 'Aleatório')\n",
        "plt.title('Gráfico de tempo - Quick Sort')\n",
        "plt.legend()\n",
        "plt.show()\n",
        "print(\"-----------------------------------------------------------------\")\n",
        "plt.plot(comparacoesAleatorio, label = 'Comparação Aleatório')\n",
        "plt.title('Gráfico de comparações - Quick Sort')\n",
        "plt.legend()\n",
        "plt.show()\n",
        "print(\"-----------------------------------------------------------------\")\n",
        "print(\"O melhor caso do QuickSort é quando ocorre uma divisão mais equitativa possível\")\n",
        "print(\"O particionamento produz dois subproblemas, cada um de tamanho não maior que 𝑛/2\")\n",
        "print(\"O melhor caso: O(n log n )\")\n",
        "print()\n",
        "print(\"O pior caso do QuickSort ocorre quando a rotina de particionamento produz um\")\n",
        "print(\"subproblema com 𝑛 − 1 elementos e um com 0 elementos\")\n",
        "print(\"O pior caso: O(n²)\")"
      ],
      "metadata": {
        "id": "3RvRYXcHGFiG"
      },
      "execution_count": null,
      "outputs": []
    },
    {
      "cell_type": "markdown",
      "source": [
        "# Questões"
      ],
      "metadata": {
        "id": "VomdAnCrzEv1"
      }
    },
    {
      "cell_type": "markdown",
      "source": [
        "\n",
        "\n",
        "1.   Dado um conjunto de arranjos ***A[5,...,1000, passo=5]***\n",
        "\n",
        "> a) Defina o melhor e pior caso para cada um dos algoritmos definidos acima, crie vetores ***A*** para estes casos e faça a comparação gráficamente também com casos aleatórios (plote um gráfico para cada algoritmo). Conte o numero de comparações realzizadas para cada uma das execuções.\n",
        "\n",
        "> b) Repita o procedimento acima. Porém compare os algoritmos para pior e melhor caso e também casos aleatórios.\n",
        "\n",
        "> c) Qual é o comportamento assintótico para cada um dos algorítmos acima (melhor caso e pior caso, se puder, analise também em casos aleatórios)\n",
        "\n",
        "\n",
        "\n",
        "**Obs.:** para os algoritmos QuickSort e Merge Sort mostre apenas um melhor e um pior caso. faça a comparação com os demais métodos com o conjunto ***A*** apenas em casos aleatórios.\n",
        "\n",
        "\n",
        "\n"
      ],
      "metadata": {
        "id": "3QKV979kzItD"
      }
    },
    {
      "cell_type": "markdown",
      "source": [
        "2.Desenvolva uma versão aleatorizada do QUICKSORT (pivo aleatório) e compare com a versão apresentada em sala de aula e definida acima.\n"
      ],
      "metadata": {
        "id": "9hhEkQam21NC"
      }
    },
    {
      "cell_type": "code",
      "source": [
        "def quicksort(arr, inicio , fim):\n",
        "    if(inicio < fim):\n",
        "\n",
        "        pivotindex = partitionrand(arr,\\\n",
        "                             inicio, fim)\n",
        "\n",
        "        quicksort(arr , inicio , pivotindex-1)\n",
        "        quicksort(arr, pivotindex + 1, fim)\n",
        "  \n",
        "def partitionrand(arr , inicio, fim):\n",
        "  \n",
        "    randpivot = random.randrange(inicio, fim)\n",
        "  \n",
        "    arr[inicio], arr[randpivot] = \\\n",
        "        arr[randpivot], arr[inicio]\n",
        "    return partition(arr, inicio, fim)\n",
        "  \n",
        "import time\n",
        "import random\n",
        "\n",
        "global_1=0\n",
        "def partition(arr,inicio,fim):\n",
        "    pivot = inicio\n",
        "      \n",
        "    i = inicio + 1 \n",
        "      \n",
        "    for j in range(inicio + 1, fim + 1):\n",
        "          \n",
        "        if arr[j] <= arr[pivot]:\n",
        "            arr[i] , arr[j] = arr[j] , arr[i]\n",
        "            i = i + 1\n",
        "    arr[pivot] , arr[i - 1] =\\\n",
        "            arr[i - 1] , arr[pivot]\n",
        "    pivot = i - 1\n",
        "    return (pivot)\n",
        "  \n",
        "# Driver Code\n",
        "if __name__ == \"__main__\":\n",
        "    array = [108, 7, 86, 9, 1, 15, 29, 76, 3, 22, 11, 8, 112, 19, 27]\n",
        "    quicksort(array, 0, len(array) - 1)\n",
        "    print(array)"
      ],
      "metadata": {
        "id": "X3GZmc_tKxJ1"
      },
      "execution_count": null,
      "outputs": []
    },
    {
      "cell_type": "markdown",
      "source": [
        "O Quicksort com pivô aleatório nos permite obter numerosas possibilidades e para obtermos o pivô aleatório necessitamos basicamente de um gerador de números aleatórios e algum algoritmo do quick sort. Assim, a lógica é que será sorteado um número aleatório que será trocado com a última posição do vetor e o algoritmo será executado normalmente. Na outra versão do Quicksort, usamos como exemplo um arranjo ordenado e como pivô utilizamos o ultimo elemento que no caso será o maior elemento, então ele vai sempre gerar arranjos menores."
      ],
      "metadata": {
        "id": "HVroiJ6Wfp2s"
      }
    },
    {
      "cell_type": "code",
      "source": [
        "print(\"Boa sorte!!!\")"
      ],
      "metadata": {
        "colab": {
          "base_uri": "https://localhost:8080/"
        },
        "id": "nBfs279_1Vko",
        "outputId": "6a6e86cf-5b1e-4176-a1a5-93bfb4ded319"
      },
      "execution_count": null,
      "outputs": [
        {
          "output_type": "stream",
          "name": "stdout",
          "text": [
            "Boa sorte!!!\n"
          ]
        }
      ]
    }
  ]
}